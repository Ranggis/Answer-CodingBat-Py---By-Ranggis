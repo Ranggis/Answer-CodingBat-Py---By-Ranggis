{
 "cells": [
  {
   "cell_type": "code",
   "execution_count": 1,
   "id": "81ddc07e",
   "metadata": {},
   "outputs": [],
   "source": [
    "def cigar_party(cigars, is_weekend):\n",
    "  return cigars >= 40 if is_weekend else cigars in range(40,61)"
   ]
  },
  {
   "cell_type": "code",
   "execution_count": null,
   "id": "d354d786",
   "metadata": {},
   "outputs": [],
   "source": [
    "def date_fashion(you, date):\n",
    "  if you <= 2 or date <=2:\n",
    "    return 0\n",
    "  elif you >=8 or date >=8:\n",
    "    return 2\n",
    "  else:\n",
    "    return 1"
   ]
  },
  {
   "cell_type": "code",
   "execution_count": null,
   "id": "f5ea7d7f",
   "metadata": {},
   "outputs": [],
   "source": [
    "def squirrel_play(temp, is_summer):\n",
    "  return temp in range(60, 101 if is_summer else 91)"
   ]
  },
  {
   "cell_type": "code",
   "execution_count": null,
   "id": "85bd8b41",
   "metadata": {},
   "outputs": [],
   "source": [
    "def caught_speeding(speed, is_birthday):\n",
    "  speeding = speed - (65 if is_birthday else 60)\n",
    "  if speeding > 20:\n",
    "    return 2\n",
    "  elif speeding > 0:\n",
    "    return 1\n",
    "  else:\n",
    "    return 0"
   ]
  },
  {
   "cell_type": "code",
   "execution_count": null,
   "id": "3d0adb28",
   "metadata": {},
   "outputs": [],
   "source": [
    "def sorta_sum(a, b):\n",
    "  return 20 if a+b in range(10,20) else a+b"
   ]
  },
  {
   "cell_type": "code",
   "execution_count": null,
   "id": "70576ae3",
   "metadata": {},
   "outputs": [],
   "source": [
    "def alarm_clock(day, vacation):\n",
    "  pronto = \"7:00\" if not vacation else \"10:00\"\n",
    "  tarde = \"10:00\" if not vacation else \"off\"\n",
    "  return pronto if day not in [6,0] else tarde"
   ]
  },
  {
   "cell_type": "code",
   "execution_count": null,
   "id": "9ab8c1ed",
   "metadata": {},
   "outputs": [],
   "source": [
    "def love6(a, b):\n",
    "  return a == 6 or b == 6 or a+b == 6 or abs(a-b) == 6"
   ]
  },
  {
   "cell_type": "code",
   "execution_count": null,
   "id": "f1152567",
   "metadata": {},
   "outputs": [],
   "source": [
    "def in1to10(n, outside_mode):\n",
    "  if n == 1 or n == 10:\n",
    "    return True\n",
    "  return (n in range(1,11)) ^ outside_mode"
   ]
  },
  {
   "cell_type": "code",
   "execution_count": null,
   "id": "e4c75e86",
   "metadata": {},
   "outputs": [],
   "source": [
    "def near_ten(num):\n",
    "  #within = num - (num+2)/10*10\n",
    "  #return within in range(-2,3)\n",
    "  within = num%10\n",
    "  \n",
    "  return within in [8,9,2,1,0]"
   ]
  }
 ],
 "metadata": {
  "kernelspec": {
   "display_name": "Python 3 (ipykernel)",
   "language": "python",
   "name": "python3"
  },
  "language_info": {
   "codemirror_mode": {
    "name": "ipython",
    "version": 3
   },
   "file_extension": ".py",
   "mimetype": "text/x-python",
   "name": "python",
   "nbconvert_exporter": "python",
   "pygments_lexer": "ipython3",
   "version": "3.11.7"
  }
 },
 "nbformat": 4,
 "nbformat_minor": 5
}
