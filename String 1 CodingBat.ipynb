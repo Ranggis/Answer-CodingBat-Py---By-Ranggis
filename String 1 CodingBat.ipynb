{
 "cells": [
  {
   "cell_type": "code",
   "execution_count": 4,
   "id": "1cb43529",
   "metadata": {},
   "outputs": [],
   "source": [
    "def hello_name(name):\n",
    "  return \"Hello \" + name + \"!\""
   ]
  },
  {
   "cell_type": "code",
   "execution_count": null,
   "id": "b3c49830",
   "metadata": {},
   "outputs": [],
   "source": [
    "def make_abba(a, b):\n",
    "  return a+2*b+a"
   ]
  },
  {
   "cell_type": "code",
   "execution_count": null,
   "id": "944fb279",
   "metadata": {},
   "outputs": [],
   "source": [
    "def make_tags(tag, word):\n",
    "  return \"<\"+tag+\">\"+word+\"</\"+tag+\">\""
   ]
  },
  {
   "cell_type": "code",
   "execution_count": null,
   "id": "15626206",
   "metadata": {},
   "outputs": [],
   "source": [
    "def make_out_word(out, word):\n",
    "  return out[:2] + word + out[2:]"
   ]
  },
  {
   "cell_type": "code",
   "execution_count": null,
   "id": "aeffed5c",
   "metadata": {},
   "outputs": [],
   "source": [
    "def extra_end(str):\n",
    "  return str[-2:]*3"
   ]
  },
  {
   "cell_type": "code",
   "execution_count": null,
   "id": "d97c880e",
   "metadata": {},
   "outputs": [],
   "source": [
    "def first_two(str):\n",
    "  return str if len(str)<=2 else str[:2]"
   ]
  },
  {
   "cell_type": "code",
   "execution_count": null,
   "id": "3fc01c72",
   "metadata": {},
   "outputs": [],
   "source": [
    "def first_half(str):\n",
    "  return str[:len(str)/2]"
   ]
  },
  {
   "cell_type": "code",
   "execution_count": null,
   "id": "ca48ed68",
   "metadata": {},
   "outputs": [],
   "source": [
    "def without_end(str):\n",
    "  return str[1:-1]"
   ]
  },
  {
   "cell_type": "code",
   "execution_count": null,
   "id": "87b962f4",
   "metadata": {},
   "outputs": [],
   "source": [
    "def combo_string(a, b):\n",
    "  return a+b+a if len(a)<len(b) else b+a+b"
   ]
  },
  {
   "cell_type": "code",
   "execution_count": null,
   "id": "16cb22c2",
   "metadata": {},
   "outputs": [],
   "source": [
    "def non_start(a, b):\n",
    "  return a[1:]+b[1:]\n"
   ]
  },
  {
   "cell_type": "code",
   "execution_count": 6,
   "id": "9207c4fc",
   "metadata": {},
   "outputs": [],
   "source": [
    "def left2(str):\n",
    "  return str[2:]+str[:2]"
   ]
  }
 ],
 "metadata": {
  "kernelspec": {
   "display_name": "Python 3 (ipykernel)",
   "language": "python",
   "name": "python3"
  },
  "language_info": {
   "codemirror_mode": {
    "name": "ipython",
    "version": 3
   },
   "file_extension": ".py",
   "mimetype": "text/x-python",
   "name": "python",
   "nbconvert_exporter": "python",
   "pygments_lexer": "ipython3",
   "version": "3.11.7"
  }
 },
 "nbformat": 4,
 "nbformat_minor": 5
}
